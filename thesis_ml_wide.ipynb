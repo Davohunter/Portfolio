{
  "cells": [
    {
      "cell_type": "markdown",
      "source": [
        "# 0) LIBRARIES, FUNCTIONS, READ DATA"
      ],
      "metadata": {
        "id": "FeziCQIaQ-ev"
      }
    },
    {
      "cell_type": "markdown",
      "metadata": {
        "id": "_7R5f8V-y3ul"
      },
      "source": [
        "# Libraries"
      ]
    },
    {
      "cell_type": "code",
      "source": [
        "!pip install scikit-learn >/dev/null\n",
        "!pip install keras >/dev/null\n",
        "!pip install scikeras >/dev/null\n",
        "!pip install gplearn >/dev/null\n",
        "\n",
        "# Classic libraries\n",
        "import pandas as pd\n",
        "import numpy as np\n",
        "import matplotlib.pyplot as plt\n",
        "from matplotlib import cm\n",
        "import seaborn as sns\n",
        "import os\n",
        "import itertools\n",
        "import tensorflow as tf\n",
        "import time\n",
        "import random\n",
        "import sklearn\n",
        "import scikeras\n",
        "from tensorflow import keras\n",
        "\n",
        "# ML Modules\n",
        "from sklearn.preprocessing import StandardScaler, MinMaxScaler, PolynomialFeatures\n",
        "from sklearn.linear_model import LinearRegression\n",
        "from sklearn.svm import LinearSVR, SVR\n",
        "from sklearn.tree import DecisionTreeRegressor\n",
        "from sklearn.ensemble import RandomForestRegressor\n",
        "from sklearn.model_selection import cross_val_score, KFold, train_test_split\n",
        "from sklearn.metrics import mean_squared_error, r2_score\n",
        "from sklearn.inspection import permutation_importance\n",
        "from sklearn.gaussian_process import GaussianProcessRegressor\n",
        "from sklearn.gaussian_process.kernels import RBF, ConstantKernel as C\n",
        "\n",
        "from keras.models import Sequential\n",
        "from keras.layers import Dense\n",
        "from scikeras.wrappers import KerasRegressor\n",
        "from keras.optimizers import Adam\n",
        "from keras.callbacks import LearningRateScheduler, EarlyStopping, Callback\n",
        "\n",
        "from gplearn.genetic import SymbolicRegressor\n",
        "\n",
        "from xgboost import XGBRegressor\n",
        "\n",
        "from hyperopt import fmin, tpe, hp, Trials, STATUS_OK, STATUS_FAIL\n",
        "\n",
        "# Other\n",
        "from google.colab import files"
      ],
      "metadata": {
        "id": "za6GHVNsHSjo"
      },
      "execution_count": 31,
      "outputs": []
    },
    {
      "cell_type": "code",
      "source": [
        "# Set random seed for Python environment\n",
        "random.seed(16)\n",
        "# Set random seed for NumPy\n",
        "np.random.seed(16)\n",
        "# Set random seed for TensorFlow and Keras\n",
        "tf.random.set_seed(16)\n",
        "keras.utils.set_random_seed(16)\n",
        "tf.config.experimental.enable_op_determinism()"
      ],
      "metadata": {
        "id": "jgVI9ES-HYih"
      },
      "execution_count": 32,
      "outputs": []
    },
    {
      "cell_type": "markdown",
      "metadata": {
        "id": "EyFQyd4P7hc4"
      },
      "source": [
        "#Functions"
      ]
    },
    {
      "cell_type": "code",
      "execution_count": 33,
      "metadata": {
        "id": "Ll_oBujq9EiR"
      },
      "outputs": [],
      "source": [
        "def get_xy(data):\n",
        "    if isinstance(data, np.ndarray):\n",
        "        X = data[:, :-1]\n",
        "        y = data[:, -1].reshape(-1, 1)\n",
        "    elif isinstance(data, pd.DataFrame):\n",
        "        X = pd.DataFrame(data[data.columns[:-1]].values, columns = list(data.columns[:-1]))\n",
        "        y = pd.DataFrame(data[data.columns[-1]].values.reshape(-1, 1), columns = data.columns[-1:])\n",
        "    else:\n",
        "        raise ValueError(\"Input data must be either a pandas DataFrame or a numpy array\")\n",
        "\n",
        "    return X, y"
      ]
    },
    {
      "cell_type": "code",
      "execution_count": 34,
      "metadata": {
        "id": "FeIp0CGJy278"
      },
      "outputs": [],
      "source": [
        "def eval_model(model, y_true, y_pred):\n",
        "    r2 = r2_score(y_true, y_pred)\n",
        "    mse = mean_squared_error(y_true, y_pred)\n",
        "    rmse = np.sqrt(mse)\n",
        "\n",
        "    if hasattr(model, 'coef_'):\n",
        "        coeff = model.coef_\n",
        "        flat_coeff = coeff.flatten()\n",
        "    else:\n",
        "        flat_coeff = None\n",
        "\n",
        "    if hasattr(model, 'intercept_'):\n",
        "        intercept = model.intercept_\n",
        "    else:\n",
        "        intercept = None\n",
        "\n",
        "    eval_metrics = {\n",
        "            'r2': r2,\n",
        "            'mse': mse,\n",
        "            'rmse': rmse,\n",
        "            'coeff': flat_coeff,\n",
        "            'intercept': intercept\n",
        "        }\n",
        "\n",
        "    return eval_metrics"
      ]
    },
    {
      "cell_type": "code",
      "execution_count": 35,
      "metadata": {
        "id": "VsisYiUe_Jzl"
      },
      "outputs": [],
      "source": [
        "def crossval_model(model, X_train, y_train, X_test, y_test, cv=5, scoring='r2', random_state=16):\n",
        "\n",
        "    cv_splitter = KFold(n_splits=cv, shuffle=True, random_state=random_state)\n",
        "    cv_scores = cross_val_score(model, X_train, y_train, cv=cv_splitter, scoring=scoring)\n",
        "    mean_train_score = np.round(cv_scores.mean(), 3)\n",
        "\n",
        "    test_score = np.round(model.score(X_test, y_test), 3)\n",
        "\n",
        "    score_difference = np.abs(mean_train_score - test_score)\n",
        "\n",
        "    crossval_metrics = {\n",
        "        'mean_train_score': mean_train_score,\n",
        "        'test_score': test_score,\n",
        "        'score_difference': score_difference,\n",
        "    }\n",
        "\n",
        "    return crossval_metrics"
      ]
    },
    {
      "cell_type": "code",
      "source": [
        "def crossval_neural(model_func, X_train, y_train, X_test, y_test, epochs, batch_size, cv=5, scoring='r2', random_state=16):\n",
        "    # Create KerasRegressor wrapper\n",
        "    keras_regressor = KerasRegressor(model=model_func, epochs=epochs, batch_size=batch_size, verbose=0)\n",
        "\n",
        "    # Perform cross-validation\n",
        "    cv_splitter = KFold(n_splits=cv, shuffle=True, random_state=random_state)\n",
        "    cv_scores = cross_val_score(keras_regressor, X_train, y_train, cv=cv_splitter, scoring=scoring)\n",
        "\n",
        "    # Compute mean training score\n",
        "    mean_train_score = np.round(cv_scores.mean(), 3)\n",
        "\n",
        "    # Fit the model to the entire training data\n",
        "    keras_regressor.fit(X_train, y_train)\n",
        "\n",
        "    # Evaluate the model on the test data\n",
        "    test_score = np.round(keras_regressor.score(X_test, y_test), 3)\n",
        "\n",
        "    # Compute score difference\n",
        "    score_difference = np.abs(mean_train_score - test_score)\n",
        "\n",
        "    # Package cross-validation metrics\n",
        "    crossval_metrics = {\n",
        "        'mean_train_score': mean_train_score,\n",
        "        'test_score': test_score,\n",
        "        'score_difference': score_difference,\n",
        "    }\n",
        "\n",
        "    return crossval_metrics"
      ],
      "metadata": {
        "id": "Ei4UsmxnWo2z"
      },
      "execution_count": 36,
      "outputs": []
    },
    {
      "cell_type": "code",
      "source": [
        "def get_poly_feature_names(input_features, degree):\n",
        "\n",
        "  cols = [\"bias\"]  # Add bias term\n",
        "  cols.extend(input_features)  # Add original features\n",
        "\n",
        "  for i in range(2, degree + 1):\n",
        "    # Squared terms for each original feature\n",
        "    for feature in input_features:\n",
        "\n",
        "      cols.append(feature + '^2')\n",
        "    # Interaction terms (without duplicates)\n",
        "    for feature_combo in itertools.combinations(input_features, i):\n",
        "      cols.append('*'.join(feature_combo))\n",
        "\n",
        "\n",
        "  return cols"
      ],
      "metadata": {
        "id": "2iS0VAK36_-7"
      },
      "execution_count": 37,
      "outputs": []
    },
    {
      "cell_type": "code",
      "source": [
        "def plot_history(history):\n",
        "  plt.plot(history.history['loss'],label='loss')\n",
        "  plt.plot(history.history['val_loss'],label='val_loss')\n",
        "  plt.xlabel('Epoch')\n",
        "  plt.ylabel('MSE')\n",
        "  plt.legend()\n",
        "  plt.grid(True)\n",
        "  plt.show()"
      ],
      "metadata": {
        "id": "5n6zOO00leqR"
      },
      "execution_count": 38,
      "outputs": []
    },
    {
      "cell_type": "code",
      "source": [
        "def plot_history_lr(history, learning_rate):\n",
        "  fig, (ax1, ax2) = plt.subplots(1, 2, figsize=(10,4))\n",
        "\n",
        "  ax1.plot(history.history['loss'],label='loss')\n",
        "  ax1.plot(history.history['val_loss'],label='val_loss')\n",
        "  ax1.set_xlabel('Epoch')\n",
        "  ax1.set_ylabel('MSE')\n",
        "  ax1.legend()\n",
        "  ax1.grid(True)\n",
        "\n",
        "  ax2.plot(learning_rate, history.history['loss'],label='learning rate', color = 'indianred')\n",
        "  ax2.set_xlabel('Learning rate')\n",
        "  ax2.set_xscale('log')\n",
        "  ax2.set_ylabel('Loss')\n",
        "  ax2.legend()\n",
        "\n",
        "  ax2.grid(True)\n",
        "\n",
        "  plt.show()"
      ],
      "metadata": {
        "id": "sAQ_2cYH3VdB"
      },
      "execution_count": 39,
      "outputs": []
    },
    {
      "cell_type": "markdown",
      "metadata": {
        "id": "FwR2nhcj5hMB"
      },
      "source": [
        "# Read dataset, pin=0\n",
        "\n"
      ]
    },
    {
      "cell_type": "code",
      "execution_count": 40,
      "metadata": {
        "colab": {
          "base_uri": "https://localhost:8080/",
          "height": 0
        },
        "id": "EFOH7pLJNvq5",
        "outputId": "93ced26f-b57f-46e7-ff5c-e686081d4b5b"
      },
      "outputs": [
        {
          "output_type": "execute_result",
          "data": {
            "text/plain": [
              "   couple  spec  temp  hard_ratio   cof        volume\n",
              "0       1     1   300    0.899676  0.58  3.976732e+08\n",
              "1       1     0   300    0.899676  0.58  7.115535e+07\n",
              "2       1     1   700    0.899676  0.56  4.693081e+07\n",
              "3       1     0   700    0.899676  0.56  2.200536e+07\n",
              "4       1     1   850    0.899676  0.32  1.652195e+07"
            ],
            "text/html": [
              "\n",
              "  <div id=\"df-78072080-781a-4dd1-81d1-583dccfe1bf6\" class=\"colab-df-container\">\n",
              "    <div>\n",
              "<style scoped>\n",
              "    .dataframe tbody tr th:only-of-type {\n",
              "        vertical-align: middle;\n",
              "    }\n",
              "\n",
              "    .dataframe tbody tr th {\n",
              "        vertical-align: top;\n",
              "    }\n",
              "\n",
              "    .dataframe thead th {\n",
              "        text-align: right;\n",
              "    }\n",
              "</style>\n",
              "<table border=\"1\" class=\"dataframe\">\n",
              "  <thead>\n",
              "    <tr style=\"text-align: right;\">\n",
              "      <th></th>\n",
              "      <th>couple</th>\n",
              "      <th>spec</th>\n",
              "      <th>temp</th>\n",
              "      <th>hard_ratio</th>\n",
              "      <th>cof</th>\n",
              "      <th>volume</th>\n",
              "    </tr>\n",
              "  </thead>\n",
              "  <tbody>\n",
              "    <tr>\n",
              "      <th>0</th>\n",
              "      <td>1</td>\n",
              "      <td>1</td>\n",
              "      <td>300</td>\n",
              "      <td>0.899676</td>\n",
              "      <td>0.58</td>\n",
              "      <td>3.976732e+08</td>\n",
              "    </tr>\n",
              "    <tr>\n",
              "      <th>1</th>\n",
              "      <td>1</td>\n",
              "      <td>0</td>\n",
              "      <td>300</td>\n",
              "      <td>0.899676</td>\n",
              "      <td>0.58</td>\n",
              "      <td>7.115535e+07</td>\n",
              "    </tr>\n",
              "    <tr>\n",
              "      <th>2</th>\n",
              "      <td>1</td>\n",
              "      <td>1</td>\n",
              "      <td>700</td>\n",
              "      <td>0.899676</td>\n",
              "      <td>0.56</td>\n",
              "      <td>4.693081e+07</td>\n",
              "    </tr>\n",
              "    <tr>\n",
              "      <th>3</th>\n",
              "      <td>1</td>\n",
              "      <td>0</td>\n",
              "      <td>700</td>\n",
              "      <td>0.899676</td>\n",
              "      <td>0.56</td>\n",
              "      <td>2.200536e+07</td>\n",
              "    </tr>\n",
              "    <tr>\n",
              "      <th>4</th>\n",
              "      <td>1</td>\n",
              "      <td>1</td>\n",
              "      <td>850</td>\n",
              "      <td>0.899676</td>\n",
              "      <td>0.32</td>\n",
              "      <td>1.652195e+07</td>\n",
              "    </tr>\n",
              "  </tbody>\n",
              "</table>\n",
              "</div>\n",
              "    <div class=\"colab-df-buttons\">\n",
              "\n",
              "  <div class=\"colab-df-container\">\n",
              "    <button class=\"colab-df-convert\" onclick=\"convertToInteractive('df-78072080-781a-4dd1-81d1-583dccfe1bf6')\"\n",
              "            title=\"Convert this dataframe to an interactive table.\"\n",
              "            style=\"display:none;\">\n",
              "\n",
              "  <svg xmlns=\"http://www.w3.org/2000/svg\" height=\"24px\" viewBox=\"0 -960 960 960\">\n",
              "    <path d=\"M120-120v-720h720v720H120Zm60-500h600v-160H180v160Zm220 220h160v-160H400v160Zm0 220h160v-160H400v160ZM180-400h160v-160H180v160Zm440 0h160v-160H620v160ZM180-180h160v-160H180v160Zm440 0h160v-160H620v160Z\"/>\n",
              "  </svg>\n",
              "    </button>\n",
              "\n",
              "  <style>\n",
              "    .colab-df-container {\n",
              "      display:flex;\n",
              "      gap: 12px;\n",
              "    }\n",
              "\n",
              "    .colab-df-convert {\n",
              "      background-color: #E8F0FE;\n",
              "      border: none;\n",
              "      border-radius: 50%;\n",
              "      cursor: pointer;\n",
              "      display: none;\n",
              "      fill: #1967D2;\n",
              "      height: 32px;\n",
              "      padding: 0 0 0 0;\n",
              "      width: 32px;\n",
              "    }\n",
              "\n",
              "    .colab-df-convert:hover {\n",
              "      background-color: #E2EBFA;\n",
              "      box-shadow: 0px 1px 2px rgba(60, 64, 67, 0.3), 0px 1px 3px 1px rgba(60, 64, 67, 0.15);\n",
              "      fill: #174EA6;\n",
              "    }\n",
              "\n",
              "    .colab-df-buttons div {\n",
              "      margin-bottom: 4px;\n",
              "    }\n",
              "\n",
              "    [theme=dark] .colab-df-convert {\n",
              "      background-color: #3B4455;\n",
              "      fill: #D2E3FC;\n",
              "    }\n",
              "\n",
              "    [theme=dark] .colab-df-convert:hover {\n",
              "      background-color: #434B5C;\n",
              "      box-shadow: 0px 1px 3px 1px rgba(0, 0, 0, 0.15);\n",
              "      filter: drop-shadow(0px 1px 2px rgba(0, 0, 0, 0.3));\n",
              "      fill: #FFFFFF;\n",
              "    }\n",
              "  </style>\n",
              "\n",
              "    <script>\n",
              "      const buttonEl =\n",
              "        document.querySelector('#df-78072080-781a-4dd1-81d1-583dccfe1bf6 button.colab-df-convert');\n",
              "      buttonEl.style.display =\n",
              "        google.colab.kernel.accessAllowed ? 'block' : 'none';\n",
              "\n",
              "      async function convertToInteractive(key) {\n",
              "        const element = document.querySelector('#df-78072080-781a-4dd1-81d1-583dccfe1bf6');\n",
              "        const dataTable =\n",
              "          await google.colab.kernel.invokeFunction('convertToInteractive',\n",
              "                                                    [key], {});\n",
              "        if (!dataTable) return;\n",
              "\n",
              "        const docLinkHtml = 'Like what you see? Visit the ' +\n",
              "          '<a target=\"_blank\" href=https://colab.research.google.com/notebooks/data_table.ipynb>data table notebook</a>'\n",
              "          + ' to learn more about interactive tables.';\n",
              "        element.innerHTML = '';\n",
              "        dataTable['output_type'] = 'display_data';\n",
              "        await google.colab.output.renderOutput(dataTable, element);\n",
              "        const docLink = document.createElement('div');\n",
              "        docLink.innerHTML = docLinkHtml;\n",
              "        element.appendChild(docLink);\n",
              "      }\n",
              "    </script>\n",
              "  </div>\n",
              "\n",
              "\n",
              "<div id=\"df-ebfac0c9-1762-4179-b87c-51e4ad6d68a3\">\n",
              "  <button class=\"colab-df-quickchart\" onclick=\"quickchart('df-ebfac0c9-1762-4179-b87c-51e4ad6d68a3')\"\n",
              "            title=\"Suggest charts\"\n",
              "            style=\"display:none;\">\n",
              "\n",
              "<svg xmlns=\"http://www.w3.org/2000/svg\" height=\"24px\"viewBox=\"0 0 24 24\"\n",
              "     width=\"24px\">\n",
              "    <g>\n",
              "        <path d=\"M19 3H5c-1.1 0-2 .9-2 2v14c0 1.1.9 2 2 2h14c1.1 0 2-.9 2-2V5c0-1.1-.9-2-2-2zM9 17H7v-7h2v7zm4 0h-2V7h2v10zm4 0h-2v-4h2v4z\"/>\n",
              "    </g>\n",
              "</svg>\n",
              "  </button>\n",
              "\n",
              "<style>\n",
              "  .colab-df-quickchart {\n",
              "      --bg-color: #E8F0FE;\n",
              "      --fill-color: #1967D2;\n",
              "      --hover-bg-color: #E2EBFA;\n",
              "      --hover-fill-color: #174EA6;\n",
              "      --disabled-fill-color: #AAA;\n",
              "      --disabled-bg-color: #DDD;\n",
              "  }\n",
              "\n",
              "  [theme=dark] .colab-df-quickchart {\n",
              "      --bg-color: #3B4455;\n",
              "      --fill-color: #D2E3FC;\n",
              "      --hover-bg-color: #434B5C;\n",
              "      --hover-fill-color: #FFFFFF;\n",
              "      --disabled-bg-color: #3B4455;\n",
              "      --disabled-fill-color: #666;\n",
              "  }\n",
              "\n",
              "  .colab-df-quickchart {\n",
              "    background-color: var(--bg-color);\n",
              "    border: none;\n",
              "    border-radius: 50%;\n",
              "    cursor: pointer;\n",
              "    display: none;\n",
              "    fill: var(--fill-color);\n",
              "    height: 32px;\n",
              "    padding: 0;\n",
              "    width: 32px;\n",
              "  }\n",
              "\n",
              "  .colab-df-quickchart:hover {\n",
              "    background-color: var(--hover-bg-color);\n",
              "    box-shadow: 0 1px 2px rgba(60, 64, 67, 0.3), 0 1px 3px 1px rgba(60, 64, 67, 0.15);\n",
              "    fill: var(--button-hover-fill-color);\n",
              "  }\n",
              "\n",
              "  .colab-df-quickchart-complete:disabled,\n",
              "  .colab-df-quickchart-complete:disabled:hover {\n",
              "    background-color: var(--disabled-bg-color);\n",
              "    fill: var(--disabled-fill-color);\n",
              "    box-shadow: none;\n",
              "  }\n",
              "\n",
              "  .colab-df-spinner {\n",
              "    border: 2px solid var(--fill-color);\n",
              "    border-color: transparent;\n",
              "    border-bottom-color: var(--fill-color);\n",
              "    animation:\n",
              "      spin 1s steps(1) infinite;\n",
              "  }\n",
              "\n",
              "  @keyframes spin {\n",
              "    0% {\n",
              "      border-color: transparent;\n",
              "      border-bottom-color: var(--fill-color);\n",
              "      border-left-color: var(--fill-color);\n",
              "    }\n",
              "    20% {\n",
              "      border-color: transparent;\n",
              "      border-left-color: var(--fill-color);\n",
              "      border-top-color: var(--fill-color);\n",
              "    }\n",
              "    30% {\n",
              "      border-color: transparent;\n",
              "      border-left-color: var(--fill-color);\n",
              "      border-top-color: var(--fill-color);\n",
              "      border-right-color: var(--fill-color);\n",
              "    }\n",
              "    40% {\n",
              "      border-color: transparent;\n",
              "      border-right-color: var(--fill-color);\n",
              "      border-top-color: var(--fill-color);\n",
              "    }\n",
              "    60% {\n",
              "      border-color: transparent;\n",
              "      border-right-color: var(--fill-color);\n",
              "    }\n",
              "    80% {\n",
              "      border-color: transparent;\n",
              "      border-right-color: var(--fill-color);\n",
              "      border-bottom-color: var(--fill-color);\n",
              "    }\n",
              "    90% {\n",
              "      border-color: transparent;\n",
              "      border-bottom-color: var(--fill-color);\n",
              "    }\n",
              "  }\n",
              "</style>\n",
              "\n",
              "  <script>\n",
              "    async function quickchart(key) {\n",
              "      const quickchartButtonEl =\n",
              "        document.querySelector('#' + key + ' button');\n",
              "      quickchartButtonEl.disabled = true;  // To prevent multiple clicks.\n",
              "      quickchartButtonEl.classList.add('colab-df-spinner');\n",
              "      try {\n",
              "        const charts = await google.colab.kernel.invokeFunction(\n",
              "            'suggestCharts', [key], {});\n",
              "      } catch (error) {\n",
              "        console.error('Error during call to suggestCharts:', error);\n",
              "      }\n",
              "      quickchartButtonEl.classList.remove('colab-df-spinner');\n",
              "      quickchartButtonEl.classList.add('colab-df-quickchart-complete');\n",
              "    }\n",
              "    (() => {\n",
              "      let quickchartButtonEl =\n",
              "        document.querySelector('#df-ebfac0c9-1762-4179-b87c-51e4ad6d68a3 button');\n",
              "      quickchartButtonEl.style.display =\n",
              "        google.colab.kernel.accessAllowed ? 'block' : 'none';\n",
              "    })();\n",
              "  </script>\n",
              "</div>\n",
              "    </div>\n",
              "  </div>\n"
            ],
            "application/vnd.google.colaboratory.intrinsic+json": {
              "type": "dataframe",
              "variable_name": "dataset_pd",
              "summary": "{\n  \"name\": \"dataset_pd\",\n  \"rows\": 52,\n  \"fields\": [\n    {\n      \"column\": \"couple\",\n      \"properties\": {\n        \"dtype\": \"number\",\n        \"std\": 4,\n        \"min\": 1,\n        \"max\": 14,\n        \"num_unique_values\": 14,\n        \"samples\": [\n          10,\n          12,\n          1\n        ],\n        \"semantic_type\": \"\",\n        \"description\": \"\"\n      }\n    },\n    {\n      \"column\": \"spec\",\n      \"properties\": {\n        \"dtype\": \"number\",\n        \"std\": 0,\n        \"min\": 0,\n        \"max\": 1,\n        \"num_unique_values\": 2,\n        \"samples\": [\n          0,\n          1\n        ],\n        \"semantic_type\": \"\",\n        \"description\": \"\"\n      }\n    },\n    {\n      \"column\": \"temp\",\n      \"properties\": {\n        \"dtype\": \"number\",\n        \"std\": 244,\n        \"min\": 300,\n        \"max\": 850,\n        \"num_unique_values\": 3,\n        \"samples\": [\n          300,\n          700\n        ],\n        \"semantic_type\": \"\",\n        \"description\": \"\"\n      }\n    },\n    {\n      \"column\": \"hard_ratio\",\n      \"properties\": {\n        \"dtype\": \"number\",\n        \"std\": 0.6918166525903932,\n        \"min\": 0.3861111111111111,\n        \"max\": 2.740437158469945,\n        \"num_unique_values\": 11,\n        \"samples\": [\n          0.5100917431192661,\n          0.8996763754045307\n        ],\n        \"semantic_type\": \"\",\n        \"description\": \"\"\n      }\n    },\n    {\n      \"column\": \"cof\",\n      \"properties\": {\n        \"dtype\": \"number\",\n        \"std\": 0.12652448954848733,\n        \"min\": 0.31,\n        \"max\": 0.76,\n        \"num_unique_values\": 20,\n        \"samples\": [\n          0.58,\n          0.69\n        ],\n        \"semantic_type\": \"\",\n        \"description\": \"\"\n      }\n    },\n    {\n      \"column\": \"volume\",\n      \"properties\": {\n        \"dtype\": \"number\",\n        \"std\": 166839459.90702295,\n        \"min\": 4120674.1184378504,\n        \"max\": 585164818.471733,\n        \"num_unique_values\": 52,\n        \"samples\": [\n          31520210.267194275,\n          20797974.40636396\n        ],\n        \"semantic_type\": \"\",\n        \"description\": \"\"\n      }\n    }\n  ]\n}"
            }
          },
          "metadata": {},
          "execution_count": 40
        }
      ],
      "source": [
        "dataset_pd = pd.read_excel(\"/content/dataset_ml.xlsx\")\n",
        "cols = [\"couple\", \"spec\", \"temp\", \"hard_ratio\", \"cof\", \"volume\"]\n",
        "dataset_pd[\"spec\"] = (dataset_pd[\"spec\"]==\"plate\").astype(int)\n",
        "dataset_pd.head()"
      ]
    },
    {
      "cell_type": "markdown",
      "metadata": {
        "id": "nVR7wr-P5yVs"
      },
      "source": [
        "# np.arrays and pd.DataFrames"
      ]
    },
    {
      "cell_type": "code",
      "execution_count": 41,
      "metadata": {
        "id": "r10SQpKu5yBf"
      },
      "outputs": [],
      "source": [
        "train_pd, test_pd = np.split(dataset_pd.sample(frac=1, random_state=16), [int(0.8*len(dataset_pd))])\n",
        "dataset_np = np.array(dataset_pd)\n",
        "train_np, test_np = np.array(train_pd), np.array(test_pd)\n",
        "\n",
        "#All NUMPY ARRAYS - UNScaled\n",
        "X_dataset_np = get_xy(dataset_np)[0]\n",
        "y_dataset_np = get_xy(dataset_np)[1]\n",
        "\n",
        "X_train_np = get_xy(train_np)[0]\n",
        "y_train_np = get_xy(train_np)[1]\n",
        "\n",
        "X_test_np = get_xy(test_np)[0]\n",
        "y_test_np = get_xy(test_np)[1]\n",
        "\n",
        "#All PANDAS DATAFRAMES - UNScaled\n",
        "X_dataset_pd = get_xy(dataset_pd)[0]\n",
        "y_dataset_pd = get_xy(dataset_pd)[1]\n",
        "\n",
        "X_train_pd = get_xy(train_pd)[0]\n",
        "y_train_pd = get_xy(train_pd)[1]\n",
        "\n",
        "X_test_pd = get_xy(test_pd)[0]\n",
        "y_test_pd = get_xy(test_pd)[1]\n",
        "\n",
        "#All NUMPY ARRAYS - Scaled .- MINMAX Good because only positive values\n",
        "scaler_X = MinMaxScaler()\n",
        "scaler_y = MinMaxScaler()\n",
        "\n",
        "X_train_np_scaled = scaler_X.fit_transform(X_train_np)\n",
        "y_train_np_scaled = scaler_y.fit_transform(y_train_np.reshape(-1, 1))\n",
        "\n",
        "X_test_np_scaled = scaler_X.transform(X_test_np)\n",
        "y_test_np_scaled = scaler_y.transform(y_test_np)\n",
        "\n",
        "#All PANDAS DATAFRAMES - Scaled\n",
        "X_train_pd_scaled = pd.DataFrame(X_train_np_scaled, columns = list(dataset_pd.columns[:-1]))\n",
        "y_train_pd_scaled = pd.DataFrame(y_train_np_scaled, columns = dataset_pd.columns[-1:])\n",
        "\n",
        "X_test_pd_scaled = pd.DataFrame(X_test_np_scaled, columns = list(dataset_pd.columns[:-1]))\n",
        "y_test_pd_scaled = pd.DataFrame(y_test_np_scaled, columns = dataset_pd.columns[-1:])"
      ]
    },
    {
      "cell_type": "markdown",
      "source": [
        "# 1) LINEAR REGRESSION"
      ],
      "metadata": {
        "id": "an7ezPKlQt2a"
      }
    },
    {
      "cell_type": "markdown",
      "source": [
        "# 1.1) Simple LR"
      ],
      "metadata": {
        "id": "mL91bba-aucm"
      }
    },
    {
      "cell_type": "code",
      "source": [
        "# TRAIN MODEL\n",
        "# Define, Train\n",
        "lin_reg = LinearRegression()\n",
        "lin_reg.fit(X_train_np_scaled, y_train_np_scaled)\n",
        "\n",
        "# Predict\n",
        "y_pred_linear_uns = lin_reg.predict(X_test_np_scaled)\n",
        "\n",
        "# Unscale\n",
        "y_test_linear = scaler_y.inverse_transform(y_test_np_scaled.reshape(-1, 1))\n",
        "y_pred_linear = scaler_y.inverse_transform(y_pred_linear_uns.reshape(-1, 1))\n",
        "\n",
        "# Evaluate, Cross validation\n",
        "eval_linear = eval_model(lin_reg, y_test_linear, y_pred_linear)\n",
        "mse_linear = eval_linear ['mse']\n",
        "rmse_linear = eval_linear ['rmse']\n",
        "\n",
        "cross_linear = crossval_model(lin_reg, X_train_np_scaled, y_train_np_scaled, X_test_np_scaled, y_test_np_scaled)\n",
        "r2_linear_test = cross_linear ['test_score']\n",
        "r2_linear_train = cross_linear ['mean_train_score']\n",
        "\n",
        "eval_linear, cross_linear"
      ],
      "metadata": {
        "colab": {
          "base_uri": "https://localhost:8080/"
        },
        "id": "EwQNEqvuUI88",
        "outputId": "3802a416-4aa9-4ec5-bb55-74a75c1e4f17"
      },
      "execution_count": 42,
      "outputs": [
        {
          "output_type": "execute_result",
          "data": {
            "text/plain": [
              "({'r2': 0.4152267057111816,\n",
              "  'mse': 1.901620563318949e+16,\n",
              "  'rmse': 137899259.00159684,\n",
              "  'coeff': array([-0.09123206,  0.20205215, -0.05805395,  0.12209793,  0.58753851]),\n",
              "  'intercept': array([-0.08081022])},\n",
              " {'mean_train_score': 0.238, 'test_score': 0.415, 'score_difference': 0.177})"
            ]
          },
          "metadata": {},
          "execution_count": 42
        }
      ]
    },
    {
      "cell_type": "code",
      "source": [
        "# PLOT\n",
        "# Create a DataFrame\n",
        "combo_sns = {\n",
        "    \"y_test_linear\": y_test_linear.flatten(),\n",
        "    \"y_pred_linear\": y_pred_linear.flatten(),\n",
        "    \"X_test_temp\": X_test_np[:, 2],\n",
        "}\n",
        "combo_df = pd.DataFrame(combo_sns)\n",
        "\n",
        "x_t = np.linspace(0, 6e8, 10)\n",
        "y_t = x_t\n",
        "\n",
        "# Create subplots using Seaborn\n",
        "fig, axs = plt.subplots(1, 2, figsize=(7, 4))\n",
        "\n",
        "sns.lineplot(x=x_t, y=y_t, color='black', ax=axs[0], label='ideal')\n",
        "sns.scatterplot(data=combo_df, x='y_test_linear', y='y_pred_linear', color='firebrick', ax=axs[0], label='model')\n",
        "axs[0].set_title(f'True vs Predicted value \\n R2_train: {r2_linear_train:.3f} \\n R2_test: {r2_linear_test:.3f} \\n')\n",
        "axs[0].set_xlabel('True Values')\n",
        "axs[0].set_xlim(0,6e8)\n",
        "axs[0].set_ylabel('Predictions')\n",
        "axs[0].set_ylim(0,6e8)\n",
        "axs[0].legend(loc='upper right')\n",
        "\n",
        "x_fit = np.linspace(200,900,100)\n",
        "y_fit = eval_linear['intercept'][0] + eval_linear['coeff'][2] * x_fit\n",
        "\n",
        "sns.scatterplot(data=combo_df, x='X_test_temp', y='y_test_linear', color='b', ax=axs[1], label='test')\n",
        "sns.scatterplot(data=combo_df, x='X_test_temp', y='y_pred_linear', color='r', ax=axs[1], label='pred')\n",
        "sns.lineplot(x=x_fit, y=y_fit, color='brown', ax=axs[1], label='fit')\n",
        "axs[1].set_title(f'Temp - Test/Pred Volume \\n MSE: {mse_linear} \\n RMSE: {rmse_linear:.3f}')\n",
        "axs[1].set_xlabel('Temperature')\n",
        "axs[1].set_ylabel('True Values/Predictions')\n",
        "axs[1].legend()\n",
        "\n",
        "plt.tight_layout()\n",
        "plt.show()"
      ],
      "metadata": {
        "colab": {
          "base_uri": "https://localhost:8080/",
          "height": 391
        },
        "id": "ux1opHraU2dC",
        "outputId": "90db9f1e-889b-4a4f-b3c3-29ecd35622fe"
      },
      "execution_count": 43,
      "outputs": [
        {
          "output_type": "display_data",
          "data": {
            "text/plain": [
              "<Figure size 700x400 with 2 Axes>"
            ],
            "image/png": "[encoded data removed]"
          },
          "metadata": {}
        }
      ]
    },
    {
      "cell_type": "markdown",
      "source": [
        "# 1.2) Polynomial LR"
      ],
      "metadata": {
        "id": "IhbMs7b8ayW1"
      }
    },
    {
      "cell_type": "code",
      "source": [
        "# Polynomial features\n",
        "poly_degree_lr = 2\n",
        "\n",
        "poly_features_lr = PolynomialFeatures(degree=poly_degree_lr)\n",
        "X_train_poly = poly_features_lr.fit_transform(X_train_np_scaled)\n",
        "X_test_poly = poly_features_lr.transform(X_test_np_scaled)\n",
        "\n",
        "# Define, Train LR with PR\n",
        "poly_reg = LinearRegression()\n",
        "poly_reg.fit(X_train_poly, y_train_np_scaled)\n",
        "\n",
        "# Predict\n",
        "y_pred_poly_uns = poly_reg.predict(X_test_poly)\n",
        "\n",
        "# Unscale\n",
        "y_test_poly = scaler_y.inverse_transform(y_test_np_scaled.reshape(-1, 1))\n",
        "y_pred_poly = scaler_y.inverse_transform(y_pred_poly_uns.reshape(-1, 1))\n",
        "\n",
        "# Evaluate, Cross validation\n",
        "eval_poly = eval_model(poly_reg, y_test_poly, y_pred_poly)\n",
        "mse_poly = eval_poly ['mse']\n",
        "rmse_poly = eval_poly ['rmse']\n",
        "\n",
        "cross_poly = crossval_model(poly_reg, X_train_poly, y_train_np_scaled, X_test_poly, y_test_np_scaled)\n",
        "r2_poly_test = cross_poly ['test_score']\n",
        "r2_poly_train = cross_poly ['mean_train_score']\n",
        "\n",
        "eval_poly, cross_poly"
      ],
      "metadata": {
        "colab": {
          "base_uri": "https://localhost:8080/"
        },
        "id": "6euq-cz0al96",
        "outputId": "0e2627bb-871d-47ec-b4e4-06db810a8d7c"
      },
      "execution_count": 44,
      "outputs": [
        {
          "output_type": "execute_result",
          "data": {
            "text/plain": [
              "({'r2': -0.2011572506176016,\n",
              "  'mse': 3.906035637848313e+16,\n",
              "  'rmse': 197636930.7049751,\n",
              "  'coeff': array([ 0.        , -2.00109519,  0.14724584, -0.64235328,  0.57759636,\n",
              "         -0.18939039, -0.05913578,  0.09261425,  0.61863925,  2.61177902,\n",
              "          1.82484982,  0.14724584, -0.20828108, -0.33134738,  0.13776137,\n",
              "          0.71418568, -0.73319528, -0.22516229, -1.18676885, -1.47136356,\n",
              "          0.25704513]),\n",
              "  'intercept': array([0.45523426])},\n",
              " {'mean_train_score': -2.452, 'test_score': -0.201, 'score_difference': 2.251})"
            ]
          },
          "metadata": {},
          "execution_count": 44
        }
      ]
    },
    {
      "cell_type": "code",
      "source": [
        "# Create a DataFrame\n",
        "combo_sns = {\n",
        "    \"y_test_poly\": y_test_poly.flatten(),\n",
        "    \"y_pred_poly\": y_pred_poly.flatten(),\n",
        "    \"X_test_temp\": X_test_np[:, 2],\n",
        "}\n",
        "combo_df = pd.DataFrame(combo_sns)\n",
        "\n",
        "x_t = np.linspace(0, 6e8, 10)\n",
        "y_t = x_t\n",
        "\n",
        "# Create subplots using Seaborn\n",
        "fig, axs = plt.subplots(1, 2, figsize=(7, 4))\n",
        "\n",
        "sns.lineplot(x=x_t, y=y_t, color='black', ax=axs[0], label='ideal')\n",
        "sns.scatterplot(data=combo_df, x='y_test_poly', y='y_pred_poly', color='firebrick', ax=axs[0], label='model')\n",
        "axs[0].set_title(f'True vs Predicted value \\n R2_train: {r2_poly_train:.3f} \\n R2_test: {r2_poly_test:.3f} \\n')\n",
        "axs[0].set_xlabel('True Values')\n",
        "axs[0].set_xlim(0,6e8)\n",
        "axs[0].set_ylabel('Predictions')\n",
        "axs[0].set_ylim(0,6e8)\n",
        "axs[0].legend(loc='upper right')\n",
        "\n",
        "x_fit = np.linspace(200,900,100)\n",
        "y_fit = eval_linear['intercept'][0] + eval_linear['coeff'][2] * x_fit\n",
        "\n",
        "sns.scatterplot(data=combo_df, x='X_test_temp', y='y_test_poly', color='b', ax=axs[1], label='test')\n",
        "sns.scatterplot(data=combo_df, x='X_test_temp', y='y_pred_poly', color='r', ax=axs[1], label='pred')\n",
        "sns.lineplot(x=x_fit, y=y_fit, color='brown', ax=axs[1], label='fit')\n",
        "axs[1].set_title(f'Temp - Test/Pred Volume \\n MSE: {mse_poly} \\n RMSE: {rmse_poly:.3f}')\n",
        "axs[1].set_xlabel('Temperature')\n",
        "axs[1].set_ylabel('True Values/Predictions')\n",
        "axs[1].legend()\n",
        "\n",
        "plt.tight_layout()\n",
        "plt.show()"
      ],
      "metadata": {
        "colab": {
          "base_uri": "https://localhost:8080/",
          "height": 391
        },
        "id": "guE76ff8nVBH",
        "outputId": "50ed3a1c-2434-400b-c5fa-b543b78f6370"
      },
      "execution_count": 45,
      "outputs": [
        {
          "output_type": "display_data",
          "data": {
            "text/plain": [
              "<Figure size 700x400 with 2 Axes>"
            ],
            "image/png": "[encoded data removed]"
          },
          "metadata": {}
        }
      ]
    },
    {
      "cell_type": "markdown",
      "source": [
        "# 2) SUPPORT VECTOR MACHINES"
      ],
      "metadata": {
        "id": "BQJSxxB_ggbx"
      }
    },
    {
      "cell_type": "markdown",
      "source": [
        "# 2.1) Simple SVR"
      ],
      "metadata": {
        "id": "JL9-7DdXgn0K"
      }
    },
    {
      "cell_type": "code",
      "source": [
        "# TRAIN MODEL\n",
        "# Define, Train\n",
        "svm_lin = LinearSVR(max_iter = 5000, random_state=16) # epsilon = 1\n",
        "svm_lin.fit(X_train_np_scaled, y_train_np_scaled.reshape(-1))\n",
        "\n",
        "# Predict\n",
        "y_pred_svm_lin_uns = svm_lin.predict(X_test_np_scaled)\n",
        "\n",
        "# Unscale\n",
        "y_test_svm_lin = scaler_y.inverse_transform(y_test_np_scaled.reshape(-1,1))\n",
        "y_pred_svm_lin = scaler_y.inverse_transform(y_pred_svm_lin_uns.reshape(-1,1))\n",
        "\n",
        "# Evaluate, Cross validation\n",
        "eval_svm_lin = eval_model(svm_lin, y_test_svm_lin, y_pred_svm_lin)\n",
        "mse_svm_lin = eval_svm_lin ['mse']\n",
        "rmse_svm_lin = eval_svm_lin ['rmse']\n",
        "\n",
        "cross_svm_lin = crossval_model(svm_lin, X_train_np_scaled, y_train_np_scaled.reshape(-1), X_test_np_scaled, y_test_np_scaled)\n",
        "r2_svm_lin_test = cross_svm_lin ['test_score']\n",
        "r2_svm_lin_train = cross_svm_lin ['mean_train_score']\n",
        "\n",
        "eval_svm_lin, cross_svm_lin"
      ],
      "metadata": {
        "colab": {
          "base_uri": "https://localhost:8080/"
        },
        "id": "7DvmN9L5TYOE",
        "outputId": "447e9be0-3d7e-4c04-e77c-8eaf34f79ac7"
      },
      "execution_count": 46,
      "outputs": [
        {
          "output_type": "stream",
          "name": "stderr",
          "text": [
            "/usr/local/lib/python3.10/dist-packages/sklearn/svm/_classes.py:31: FutureWarning: The default value of `dual` will change from `True` to `'auto'` in 1.5. Set the value of `dual` explicitly to suppress the warning.\n",
            "  warnings.warn(\n",
            "/usr/local/lib/python3.10/dist-packages/sklearn/svm/_classes.py:31: FutureWarning: The default value of `dual` will change from `True` to `'auto'` in 1.5. Set the value of `dual` explicitly to suppress the warning.\n",
            "  warnings.warn(\n",
            "/usr/local/lib/python3.10/dist-packages/sklearn/svm/_classes.py:31: FutureWarning: The default value of `dual` will change from `True` to `'auto'` in 1.5. Set the value of `dual` explicitly to suppress the warning.\n",
            "  warnings.warn(\n",
            "/usr/local/lib/python3.10/dist-packages/sklearn/svm/_classes.py:31: FutureWarning: The default value of `dual` will change from `True` to `'auto'` in 1.5. Set the value of `dual` explicitly to suppress the warning.\n",
            "  warnings.warn(\n",
            "/usr/local/lib/python3.10/dist-packages/sklearn/svm/_classes.py:31: FutureWarning: The default value of `dual` will change from `True` to `'auto'` in 1.5. Set the value of `dual` explicitly to suppress the warning.\n",
            "  warnings.warn(\n",
            "/usr/local/lib/python3.10/dist-packages/sklearn/svm/_classes.py:31: FutureWarning: The default value of `dual` will change from `True` to `'auto'` in 1.5. Set the value of `dual` explicitly to suppress the warning.\n",
            "  warnings.warn(\n"
          ]
        },
        {
          "output_type": "execute_result",
          "data": {
            "text/plain": [
              "({'r2': 0.292481204864952,\n",
              "  'mse': 2.3007758782824096e+16,\n",
              "  'rmse': 151683086.67357773,\n",
              "  'coeff': array([-0.00494767,  0.13731041, -0.04133628,  0.08134355,  0.4276172 ]),\n",
              "  'intercept': array([-0.07977088])},\n",
              " {'mean_train_score': 0.018,\n",
              "  'test_score': 0.292,\n",
              "  'score_difference': 0.27399999999999997})"
            ]
          },
          "metadata": {},
          "execution_count": 46
        }
      ]
    },
    {
      "cell_type": "code",
      "source": [
        "# PLOT\n",
        "# Create a DataFrame\n",
        "combo_sns = {\n",
        "    \"y_test_svm_lin\": y_test_svm_lin.flatten(),\n",
        "    \"y_pred_svm_lin\": y_pred_svm_lin.flatten(),\n",
        "    \"X_test_temp\": X_test_np[:, 2],\n",
        "}\n",
        "combo_df = pd.DataFrame(combo_sns)\n",
        "\n",
        "x_t = np.linspace(0, 6e8, 10)\n",
        "y_t = x_t\n",
        "\n",
        "# Create subplots using Seaborn\n",
        "fig, axs = plt.subplots(1, 2, figsize=(7, 4))\n",
        "\n",
        "sns.lineplot(x=x_t, y=y_t, color='black', ax=axs[0], label='ideal')\n",
        "sns.scatterplot(data=combo_df, x='y_test_svm_lin', y='y_pred_svm_lin', color='firebrick', ax=axs[0], label='model')\n",
        "axs[0].set_title(f'True vs Predicted value \\n R2_train: {r2_svm_lin_train:.3f} \\n R2_test: {r2_svm_lin_test:.3f} \\n')\n",
        "axs[0].set_xlabel('True Values')\n",
        "axs[0].set_xlim(0,6e8)\n",
        "axs[0].set_ylabel('Predictions')\n",
        "axs[0].set_ylim(0,6e8)\n",
        "axs[0].legend(loc='upper right')\n",
        "\n",
        "x_fit = np.linspace(200,900,100)\n",
        "y_fit = eval_linear['intercept'][0] + eval_linear['coeff'][2] * x_fit\n",
        "\n",
        "sns.scatterplot(data=combo_df, x='X_test_temp', y='y_test_svm_lin', color='b', ax=axs[1], label='test')\n",
        "sns.scatterplot(data=combo_df, x='X_test_temp', y='y_pred_svm_lin', color='r', ax=axs[1], label='pred')\n",
        "sns.lineplot(x=x_fit, y=y_fit, color='brown', ax=axs[1], label='fit')\n",
        "axs[1].set_title(f'Temp - Test/Pred Volume \\n MSE: {mse_svm_lin} \\n RMSE: {rmse_svm_lin:.3f}')\n",
        "axs[1].set_xlabel('Temperature')\n",
        "axs[1].set_ylabel('True Values/Predictions')\n",
        "axs[1].legend()\n",
        "\n",
        "plt.tight_layout()\n",
        "plt.show()"
      ],
      "metadata": {
        "colab": {
          "base_uri": "https://localhost:8080/",
          "height": 391
        },
        "id": "W_pgtpJgWUdT",
        "outputId": "54728b6a-a508-437e-ec3d-f9f511107063"
      },
      "execution_count": 47,
      "outputs": [
        {
          "output_type": "display_data",
          "data": {
            "text/plain": [
              "<Figure size 700x400 with 2 Axes>"
            ],
            "image/png": "[encoded data removed]"
          },
          "metadata": {}
        }
      ]
    },
    {
      "cell_type": "markdown",
      "source": [
        "# 2.2) Polynomial SVR"
      ],
      "metadata": {
        "id": "9mok6Yfvj7xR"
      }
    },
    {
      "cell_type": "code",
      "source": [
        "# Polynomial features\n",
        "poly_degree_svm = 2\n",
        "\n",
        "poly_features_svm = PolynomialFeatures(degree=poly_degree_svm)\n",
        "X_train_svm_poly = poly_features_svm.fit_transform(X_train_np_scaled)\n",
        "X_test_svm_poly = poly_features_svm.transform(X_test_np_scaled)\n",
        "\n",
        "# Define, Train LR with PR\n",
        "svm_poly = SVR()\n",
        "svm_poly.fit(X_train_poly, y_train_np_scaled.reshape(-1))\n",
        "\n",
        "# Predict\n",
        "y_pred_smv_poly_uns = svm_poly.predict(X_test_svm_poly)\n",
        "\n",
        "# Unscale\n",
        "y_test_svm_poly = scaler_y.inverse_transform(y_test_np_scaled.reshape(-1, 1))\n",
        "y_pred_svm_poly = scaler_y.inverse_transform(y_pred_smv_poly_uns.reshape(-1, 1))\n",
        "\n",
        "# Evaluate, Cross validation\n",
        "eval_svm_poly = eval_model(svm_poly, y_test_svm_poly, y_pred_svm_poly)\n",
        "mse_svm_poly = eval_svm_poly ['mse']\n",
        "rmse_svm_poly = eval_svm_poly ['rmse']\n",
        "\n",
        "cross_svm_poly = crossval_model(svm_poly, X_train_svm_poly, y_train_np_scaled.reshape(-1), X_test_svm_poly, y_test_np_scaled)\n",
        "r2_svm_poly_train = cross_svm_poly ['mean_train_score']\n",
        "r2_svm_poly_test = cross_svm_poly ['test_score']\n",
        "\n",
        "eval_svm_poly, cross_svm_poly"
      ],
      "metadata": {
        "colab": {
          "base_uri": "https://localhost:8080/"
        },
        "id": "kgdufCoZZ7TR",
        "outputId": "cef93826-df38-4df0-ba3b-a64f81d3aafa"
      },
      "execution_count": 48,
      "outputs": [
        {
          "output_type": "execute_result",
          "data": {
            "text/plain": [
              "({'r2': 0.3005544580749333,\n",
              "  'mse': 2.2745225174211684e+16,\n",
              "  'rmse': 150815202.06601086,\n",
              "  'coeff': None,\n",
              "  'intercept': array([0.40371277])},\n",
              " {'mean_train_score': 0.309,\n",
              "  'test_score': 0.301,\n",
              "  'score_difference': 0.008000000000000007})"
            ]
          },
          "metadata": {},
          "execution_count": 48
        }
      ]
    },
    {
      "cell_type": "code",
      "source": [
        "svm_poly.support_, svm_poly.n_support_"
      ],
      "metadata": {
        "colab": {
          "base_uri": "https://localhost:8080/"
        },
        "id": "jDALg778t1ef",
        "outputId": "aa102039-1417-4c7f-9e31-519dd1ad8af7"
      },
      "execution_count": 49,
      "outputs": [
        {
          "output_type": "execute_result",
          "data": {
            "text/plain": [
              "(array([ 0,  1,  3,  5,  8, 10, 14, 15, 17, 20, 21, 23, 26, 28, 30, 32, 33,\n",
              "        34, 37, 39], dtype=int32),\n",
              " array([20], dtype=int32))"
            ]
          },
          "metadata": {},
          "execution_count": 49
        }
      ]
    },
    {
      "cell_type": "code",
      "source": [
        "# PLOT\n",
        "# Create a DataFrame\n",
        "combo_sns = {\n",
        "    \"y_test_svm_poly\": y_test_svm_poly.flatten(),\n",
        "    \"y_pred_svm_poly\": y_pred_svm_poly.flatten(),\n",
        "    \"X_test_temp\": X_test_np[:, 2],\n",
        "}\n",
        "combo_df = pd.DataFrame(combo_sns)\n",
        "\n",
        "x_t = np.linspace(0, 6e8, 10)\n",
        "y_t = x_t\n",
        "\n",
        "# Create subplots using Seaborn\n",
        "fig, axs = plt.subplots(1, 2, figsize=(7, 4))\n",
        "\n",
        "sns.lineplot(x=x_t, y=y_t, color='black', ax=axs[0], label='ideal')\n",
        "sns.scatterplot(data=combo_df, x='y_test_svm_poly', y='y_pred_svm_poly', color='firebrick', ax=axs[0], label='model')\n",
        "axs[0].set_title(f'True vs Predicted value \\n R2_train: {r2_svm_poly_train:.3f} \\n R2_test: {r2_svm_poly_test:.3f} \\n')\n",
        "axs[0].set_xlabel('True Values')\n",
        "axs[0].set_xlim(0,6e8)\n",
        "axs[0].set_ylabel('Predictions')\n",
        "axs[0].set_ylim(0,6e8)\n",
        "axs[0].legend(loc='upper right')\n",
        "\n",
        "x_fit = np.linspace(200,900,100)\n",
        "y_fit = eval_linear['intercept'][0] + eval_linear['coeff'][2] * x_fit\n",
        "\n",
        "sns.scatterplot(data=combo_df, x='X_test_temp', y='y_test_svm_poly', color='b', ax=axs[1], label='test')\n",
        "sns.scatterplot(data=combo_df, x='X_test_temp', y='y_pred_svm_poly', color='r', ax=axs[1], label='pred')\n",
        "sns.lineplot(x=x_fit, y=y_fit, color='brown', ax=axs[1], label='fit')\n",
        "axs[1].set_title(f'Temp - Test/Pred Volume \\n MSE: {mse_svm_poly} \\n RMSE: {rmse_svm_poly:.3f}')\n",
        "axs[1].set_xlabel('Temperature')\n",
        "axs[1].set_ylabel('True Values/Predictions')\n",
        "axs[1].legend()\n",
        "\n",
        "plt.tight_layout()\n",
        "plt.show()"
      ],
      "metadata": {
        "colab": {
          "base_uri": "https://localhost:8080/",
          "height": 391
        },
        "id": "Cs4PvKCOdKTk",
        "outputId": "53104514-c103-4ccc-bb0c-5f951d9f8064"
      },
      "execution_count": 50,
      "outputs": [
        {
          "output_type": "display_data",
          "data": {
            "text/plain": [
              "<Figure size 700x400 with 2 Axes>"
            ],
            "image/png": "[encoded data removed]"
          },
          "metadata": {}
        }
      ]
    },
    {
      "cell_type": "markdown",
      "source": [
        "# 3) Neural Networks"
      ],
      "metadata": {
        "id": "R8AFQep5ocN9"
      }
    },
    {
      "cell_type": "markdown",
      "source": [
        "# 3.1) Simple MLP Regression"
      ],
      "metadata": {
        "id": "cNmXtH5bocOG"
      }
    },
    {
      "cell_type": "markdown",
      "source": [
        "MLP grid search is conducted in **rychly_ml_finetuning.ipynb** because the use of NNs was chosen to examine closely not just here in wide search"
      ],
      "metadata": {
        "id": "lKD8OVl-KN47"
      }
    },
    {
      "cell_type": "markdown",
      "source": [
        "# 4) DF + RT"
      ],
      "metadata": {
        "id": "wj68Gi7BMB4M"
      }
    },
    {
      "cell_type": "markdown",
      "source": [
        "# 4.1) Decision Tree"
      ],
      "metadata": {
        "id": "vT3d4DTYIL6E"
      }
    },
    {
      "cell_type": "code",
      "source": [
        "# TRAIN MODEL\n",
        "# Define, Train\n",
        "destree = DecisionTreeRegressor()\n",
        "destree.fit(X_train_np_scaled, y_train_np_scaled)\n",
        "\n",
        "# Predict\n",
        "y_pred_tree_uns = destree.predict(X_test_np_scaled)\n",
        "\n",
        "# Unscale\n",
        "y_test_tree = scaler_y.inverse_transform(y_test_np_scaled.reshape(-1, 1))\n",
        "y_pred_tree = scaler_y.inverse_transform(y_pred_tree_uns.reshape(-1, 1))\n",
        "\n",
        "# Evaluate, Cross validation\n",
        "eval_tree = eval_model(destree, y_test_tree, y_pred_tree)\n",
        "mse_tree = eval_tree ['mse']\n",
        "rmse_tree = eval_tree ['rmse']\n",
        "\n",
        "cross_tree = crossval_model(destree, X_train_np_scaled, y_train_np_scaled, X_test_np_scaled, y_test_np_scaled)\n",
        "r2_tree_test = cross_tree ['test_score']\n",
        "r2_tree_train = cross_tree ['mean_train_score']\n",
        "\n",
        "eval_tree, cross_tree"
      ],
      "metadata": {
        "colab": {
          "base_uri": "https://localhost:8080/"
        },
        "id": "qZ-mk0sEISKK",
        "outputId": "a67eeb09-f2ec-4607-c9b7-dce498464082"
      },
      "execution_count": 51,
      "outputs": [
        {
          "output_type": "execute_result",
          "data": {
            "text/plain": [
              "({'r2': -0.11245548715309628,\n",
              "  'mse': 3.6175869363529816e+16,\n",
              "  'rmse': 190199551.4283086,\n",
              "  'coeff': None,\n",
              "  'intercept': None},\n",
              " {'mean_train_score': -0.215, 'test_score': -0.112, 'score_difference': 0.103})"
            ]
          },
          "metadata": {},
          "execution_count": 51
        }
      ]
    },
    {
      "cell_type": "markdown",
      "source": [
        "# 4.2) Random forest"
      ],
      "metadata": {
        "id": "kjvSUlfdL7pI"
      }
    },
    {
      "cell_type": "code",
      "source": [
        "# TRAIN MODEL\n",
        "# Define, Train\n",
        "forest = RandomForestRegressor(n_estimators=100, random_state=16)\n",
        "forest.fit(X_train_np_scaled, y_train_np_scaled.reshape(-1))\n",
        "\n",
        "# Predict\n",
        "y_pred_forest_uns = forest.predict(X_test_np_scaled)\n",
        "\n",
        "# Unscale\n",
        "y_test_forest = scaler_y.inverse_transform(y_test_np_scaled.reshape(-1, 1))\n",
        "y_pred_forest = scaler_y.inverse_transform(y_pred_forest_uns.reshape(-1, 1))\n",
        "\n",
        "# Evaluate, Cross validation\n",
        "eval_forest = eval_model(forest, y_test_forest, y_pred_forest)\n",
        "mse_forest = eval_forest ['mse']\n",
        "rmse_forest = eval_forest ['rmse']\n",
        "\n",
        "cross_forest = crossval_model(forest, X_train_np_scaled, y_train_np_scaled.reshape(-1), X_test_np_scaled, y_test_np_scaled)\n",
        "r2_forest_test = cross_forest ['test_score']\n",
        "r2_forest_train = cross_forest ['mean_train_score']\n",
        "\n",
        "eval_forest, cross_forest"
      ],
      "metadata": {
        "colab": {
          "base_uri": "https://localhost:8080/"
        },
        "id": "_3m2WGt3MKd-",
        "outputId": "afa5ff86-5367-442a-ba60-6b2af4b96db7"
      },
      "execution_count": 52,
      "outputs": [
        {
          "output_type": "execute_result",
          "data": {
            "text/plain": [
              "({'r2': 0.41427381354790294,\n",
              "  'mse': 1.904719267295368e+16,\n",
              "  'rmse': 138011567.1708487,\n",
              "  'coeff': None,\n",
              "  'intercept': None},\n",
              " {'mean_train_score': 0.261,\n",
              "  'test_score': 0.414,\n",
              "  'score_difference': 0.15299999999999997})"
            ]
          },
          "metadata": {},
          "execution_count": 52
        }
      ]
    },
    {
      "cell_type": "markdown",
      "source": [
        "# 5) XGB\n",
        "\n"
      ],
      "metadata": {
        "id": "RUJvxR5SOhpM"
      }
    },
    {
      "cell_type": "code",
      "source": [
        "# TRAIN MODEL\n",
        "# Define, Train\n",
        "xgb_model = XGBRegressor(n_estimators=100, random_state=16)\n",
        "xgb_model.fit(X_train_np_scaled, y_train_np_scaled.reshape(-1))\n",
        "\n",
        "# Predict\n",
        "y_pred_xgb_uns = xgb_model.predict(X_test_np_scaled)\n",
        "\n",
        "# Unscale\n",
        "y_test_xgb = scaler_y.inverse_transform(y_test_np_scaled.reshape(-1, 1))\n",
        "y_pred_xgb = scaler_y.inverse_transform(y_pred_xgb_uns.reshape(-1, 1))\n",
        "\n",
        "# Evaluate, Cross validation\n",
        "eval_xgb = eval_model(xgb_model, y_test_xgb, y_pred_xgb)\n",
        "mse_xgb = eval_xgb ['mse']\n",
        "rmse_xgb = eval_xgb ['rmse']\n",
        "\n",
        "cross_xgb = crossval_model(xgb_model, X_train_np_scaled, y_train_np_scaled.reshape(-1), X_test_np_scaled, y_test_np_scaled)\n",
        "r2_xgb_test = cross_xgb ['test_score']\n",
        "r2_xgb_train = cross_xgb ['mean_train_score']\n",
        "\n",
        "eval_xgb, cross_xgb"
      ],
      "metadata": {
        "colab": {
          "base_uri": "https://localhost:8080/"
        },
        "id": "IOW7KRL9OlUl",
        "outputId": "5aa9fbe9-004b-4d1d-c6fa-30417e2231d9"
      },
      "execution_count": 53,
      "outputs": [
        {
          "output_type": "execute_result",
          "data": {
            "text/plain": [
              "({'r2': 0.37605565208890446,\n",
              "  'mse': 2.029000663919442e+16,\n",
              "  'rmse': 142442994.34929898,\n",
              "  'coeff': None,\n",
              "  'intercept': None},\n",
              " {'mean_train_score': 0.094,\n",
              "  'test_score': 0.376,\n",
              "  'score_difference': 0.28200000000000003})"
            ]
          },
          "metadata": {},
          "execution_count": 53
        }
      ]
    },
    {
      "cell_type": "markdown",
      "source": [
        "# 6) GPR"
      ],
      "metadata": {
        "id": "Pe_N4WD6PFhn"
      }
    },
    {
      "cell_type": "code",
      "source": [
        "# NONZERO MATRICES AGAINST LOG\n",
        "# small_value = 1e-10\n",
        "# X_train_np_scaled_nonzero = np.where(X_train_np_scaled == 0, small_value, X_train_np_scaled)\n",
        "# y_train_np_scaled_nonzero = np.where(y_train_np_scaled == 0, small_value, y_train_np_scaled)\n",
        "\n",
        "# TRAIN MODEL\n",
        "# Define, Train\n",
        "length_scale_bounds = np.array([1e-100, 1e5])\n",
        "\n",
        "gpr_model = GaussianProcessRegressor(kernel=RBF(length_scale_bounds = length_scale_bounds), random_state=16)\n",
        "gpr_model.fit(X_train_np_scaled, y_train_np_scaled)\n",
        "\n",
        "# Predict\n",
        "y_pred_gpr_uns = gpr_model.predict(X_test_np_scaled)\n",
        "\n",
        "# Unscale\n",
        "y_test_gpr = scaler_y.inverse_transform(y_test_np_scaled.reshape(-1, 1))\n",
        "y_pred_gpr = scaler_y.inverse_transform(y_pred_gpr_uns.reshape(-1, 1))\n",
        "\n",
        "# Evaluate, Cross validation\n",
        "eval_gpr = eval_model(gpr_model, y_test_gpr, y_pred_gpr)\n",
        "mse_gpr = eval_gpr['mse']\n",
        "rmse_gpr = eval_gpr['rmse']\n",
        "\n",
        "cross_gpr = crossval_model(gpr_model, X_train_np_scaled, y_train_np_scaled.reshape(-1), X_test_np_scaled, y_test_np_scaled)\n",
        "r2_gpr_test = cross_gpr['test_score']\n",
        "r2_gpr_train = cross_gpr['mean_train_score']\n",
        "\n",
        "eval_gpr, cross_gpr"
      ],
      "metadata": {
        "colab": {
          "base_uri": "https://localhost:8080/"
        },
        "id": "Y3oemPYmPFhw",
        "outputId": "641d6342-c575-4e7f-b9b9-42b30bea9187"
      },
      "execution_count": 54,
      "outputs": [
        {
          "output_type": "execute_result",
          "data": {
            "text/plain": [
              "({'r2': -0.7449163000944667,\n",
              "  'mse': 5.674282238838388e+16,\n",
              "  'rmse': 238207519.5882445,\n",
              "  'coeff': None,\n",
              "  'intercept': None},\n",
              " {'mean_train_score': -1.3, 'test_score': -0.745, 'score_difference': 0.555})"
            ]
          },
          "metadata": {},
          "execution_count": 54
        }
      ]
    },
    {
      "cell_type": "markdown",
      "source": [
        "# 7) GA"
      ],
      "metadata": {
        "id": "KJM2YSMzcajD"
      }
    },
    {
      "cell_type": "markdown",
      "source": [
        "\"Genetic programming was set with following parameters: Population size = 1000, Maximum generations = 200, Mutation rate = 15%, Tournament selector as selection mechanism, Elites = 1 and Operators = {+, -, ·, /, sin, cos, tan}. Train-test split is 70/30\""
      ],
      "metadata": {
        "id": "VRQkL_xbwoE-"
      }
    },
    {
      "cell_type": "code",
      "source": [
        "from gplearn.functions import make_function\n",
        "\n",
        "# Define custom functions for sin, cos, and tan\n",
        "sin = make_function(function=np.sin, name='sin', arity=1)\n",
        "cos = make_function(function=np.cos, name='cos', arity=1)\n",
        "tan = make_function(function=np.tan, name='tan', arity=1)"
      ],
      "metadata": {
        "id": "-5imsZKBj1p6"
      },
      "execution_count": 55,
      "outputs": []
    },
    {
      "cell_type": "code",
      "source": [
        "# TRAIN MODEL\n",
        "# Define the function set including the custom functions\n",
        "function_set = ['add', 'sub', 'mul', 'div']\n",
        "\n",
        "# Define and train\n",
        "ga_model = SymbolicRegressor(population_size=1000,\n",
        "                              generations=200,\n",
        "                              tournament_size=20,\n",
        "                              function_set=function_set,\n",
        "                              p_crossover=0.7,\n",
        "                              p_subtree_mutation=0.15,\n",
        "                              p_hoist_mutation=0.05,\n",
        "                              p_point_mutation=0.1,\n",
        "                              verbose=1,\n",
        "                              parsimony_coefficient=0.01,\n",
        "                              random_state=16)\n",
        "\n",
        "ga_model.fit(X_train_np_scaled, y_train_np_scaled.reshape(-1))\n",
        "\n",
        "# Predict\n",
        "y_test_ga = scaler_y.inverse_transform(y_test_np_scaled.reshape(-1, 1))\n",
        "y_pred_ga = ga_model.predict(X_test_np_scaled)\n",
        "\n",
        "# Evaluate, Cross validation\n",
        "eval_ga = eval_model(ga_model, y_test_ga, y_pred_ga)\n",
        "mse_ga = eval_ga['mse']\n",
        "rmse_ga = eval_ga['rmse']\n",
        "\n",
        "cross_ga = crossval_model(ga_model, X_train_np_scaled, y_train_np_scaled.reshape(-1), X_test_np_scaled, y_test_np_scaled)\n",
        "r2_ga_test = cross_ga['test_score']\n",
        "r2_ga_train = cross_ga['mean_train_score']\n",
        "\n",
        "eval_ga, cross_ga, str(ga_model._program)"
      ],
      "metadata": {
        "colab": {
          "base_uri": "https://localhost:8080/"
        },
        "id": "oCNjM8qBzmr-",
        "outputId": "5b0863ff-5a35-4f4a-ba12-c2adf80eb671"
      },
      "execution_count": 56,
      "outputs": [
        {
          "output_type": "stream",
          "name": "stdout",
          "text": [
            "    |   Population Average    |             Best Individual              |\n",
            "---- ------------------------- ------------------------------------------ ----------\n",
            " Gen   Length          Fitness   Length          Fitness      OOB Fitness  Time Left\n",
            "   0    27.80          18.3913        9         0.247998              N/A      0.17s\n",
            "   1     8.20         0.353096        5         0.221068              N/A      0.06s\n",
            "   2     1.20         0.249151        1         0.226408              N/A      0.03s\n",
            "   3     1.60          1.04948        1         0.226408              N/A      0.02s\n",
            "   4     1.20         0.239069        1         0.226408              N/A      0.00s\n",
            "    |   Population Average    |             Best Individual              |\n",
            "---- ------------------------- ------------------------------------------ ----------\n",
            " Gen   Length          Fitness   Length          Fitness      OOB Fitness  Time Left\n",
            "   0    27.80          18.1562        9         0.239749              N/A      0.12s\n",
            "   1     8.20         0.339032        9         0.211173              N/A      0.12s\n",
            "   2     1.20         0.246407        1         0.222505              N/A      0.05s\n",
            "   3     1.60         0.996733        1         0.222505              N/A      0.02s\n",
            "   4     1.20         0.233735        1         0.222505              N/A      0.00s\n",
            "    |   Population Average    |             Best Individual              |\n",
            "---- ------------------------- ------------------------------------------ ----------\n",
            " Gen   Length          Fitness   Length          Fitness      OOB Fitness  Time Left\n",
            "   0    27.80          22.1487        9         0.244932              N/A      0.09s\n",
            "   1     8.20          0.34505        1         0.211907              N/A      0.05s\n",
            "   2     1.20         0.235929        1         0.211907              N/A      0.04s\n",
            "   3     1.60          1.05045        1         0.211907              N/A      0.02s\n",
            "   4     1.20         0.224589        1         0.211907              N/A      0.00s\n",
            "    |   Population Average    |             Best Individual              |\n",
            "---- ------------------------- ------------------------------------------ ----------\n",
            " Gen   Length          Fitness   Length          Fitness      OOB Fitness  Time Left\n",
            "   0    27.80           17.146        9         0.261214              N/A      0.11s\n",
            "   1     8.20         0.367873        1         0.222268              N/A      0.13s\n",
            "   2     1.20         0.241147        1         0.222268              N/A      0.06s\n",
            "   3     1.60          1.19702        1         0.222268              N/A      0.03s\n",
            "   4     1.20         0.237632        1         0.222268              N/A      0.00s\n",
            "    |   Population Average    |             Best Individual              |\n",
            "---- ------------------------- ------------------------------------------ ----------\n",
            " Gen   Length          Fitness   Length          Fitness      OOB Fitness  Time Left\n",
            "   0    27.80           19.044        9         0.231627              N/A      0.11s\n",
            "   1     8.20         0.354634        7         0.208732              N/A      0.03s\n",
            "   2     1.20         0.254823        1         0.232004              N/A      0.03s\n",
            "   3     1.60         0.782227        1         0.232004              N/A      0.01s\n",
            "   4     1.20         0.244013        1         0.232004              N/A      0.00s\n",
            "    |   Population Average    |             Best Individual              |\n",
            "---- ------------------------- ------------------------------------------ ----------\n",
            " Gen   Length          Fitness   Length          Fitness      OOB Fitness  Time Left\n",
            "   0    27.80          15.4544        9          0.26222              N/A      0.07s\n",
            "   1     8.20         0.358467        5         0.214029              N/A      0.03s\n",
            "   2     1.20         0.267365        1         0.243237              N/A      0.02s\n",
            "   3     1.60          1.21936        1         0.243237              N/A      0.03s\n",
            "   4     1.20         0.255215        1         0.243237              N/A      0.00s\n"
          ]
        },
        {
          "output_type": "execute_result",
          "data": {
            "text/plain": [
              "({'r2': -0.7848827125713915,\n",
              "  'mse': 5.804248761849049e+16,\n",
              "  'rmse': 240920085.54392156,\n",
              "  'coeff': None,\n",
              "  'intercept': None},\n",
              " {'mean_train_score': -1.532, 'test_score': 0.494, 'score_difference': 2.026},\n",
              " 'X4')"
            ]
          },
          "metadata": {},
          "execution_count": 56
        }
      ]
    }
  ],
  "metadata": {
    "colab": {
      "collapsed_sections": [
        "FwR2nhcj5hMB",
        "nVR7wr-P5yVs"
      ],
      "provenance": [],
      "toc_visible": true
    },
    "kernelspec": {
      "display_name": "Python 3",
      "name": "python3"
    },
    "language_info": {
      "name": "python"
    }
  },
  "nbformat": 4,
  "nbformat_minor": 0
}